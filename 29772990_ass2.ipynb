{
 "cells": [
  {
   "cell_type": "markdown",
   "metadata": {},
   "source": [
    "# FIT5196 Assessment 2\n",
    "\n",
    "Student Name: VADDE PAVAN KUMAR \n",
    "    \n",
    "Student ID: 29772990 \n",
    "    \n",
    "Date: 17-05-2019\n",
    "\n",
    "Version: 3.0\n",
    "\n",
    "Environment: Python 3.6.0 and Anaconda 4.3.0 (64-bit)"
   ]
  },
  {
   "cell_type": "markdown",
   "metadata": {},
   "source": [
    "# TASK 1 : Cleaning the Dirty data  "
   ]
  },
  {
   "cell_type": "code",
   "execution_count": 1,
   "metadata": {},
   "outputs": [],
   "source": [
    "#importing the packages \n",
    "import datetime\n",
    "import networkx as nx\n",
    "import pandas as pd\n",
    "import numpy as np\n",
    "from math import sin, cos, sqrt, atan2, radians\n",
    "from sklearn.linear_model import LinearRegression\n",
    "from sklearn.model_selection import train_test_split\n",
    "from sklearn.datasets import load_boston\n",
    "%matplotlib inline"
   ]
  },
  {
   "cell_type": "code",
   "execution_count": 2,
   "metadata": {},
   "outputs": [],
   "source": [
    "#loading the dirty data CSV file \n",
    "dirty = pd.read_csv(\"29772990_dirty_data.csv\")\n",
    "#data.shape # (287, 14)\n",
    "data = dirty # copying the dirty data into another dataframe \n"
   ]
  },
  {
   "cell_type": "code",
   "execution_count": 3,
   "metadata": {},
   "outputs": [
    {
     "data": {
      "text/html": [
       "<div>\n",
       "<style scoped>\n",
       "    .dataframe tbody tr th:only-of-type {\n",
       "        vertical-align: middle;\n",
       "    }\n",
       "\n",
       "    .dataframe tbody tr th {\n",
       "        vertical-align: top;\n",
       "    }\n",
       "\n",
       "    .dataframe thead th {\n",
       "        text-align: right;\n",
       "    }\n",
       "</style>\n",
       "<table border=\"1\" class=\"dataframe\">\n",
       "  <thead>\n",
       "    <tr style=\"text-align: right;\">\n",
       "      <th></th>\n",
       "      <th>Uber Type</th>\n",
       "      <th>Origin Region</th>\n",
       "      <th>Destination Region</th>\n",
       "      <th>Origin Latitude</th>\n",
       "      <th>Origin Longitude</th>\n",
       "      <th>Destination Latitude</th>\n",
       "      <th>Destination Longitude</th>\n",
       "      <th>Journey Distance(m)</th>\n",
       "      <th>Travel Time(s)</th>\n",
       "      <th>Fare$</th>\n",
       "    </tr>\n",
       "  </thead>\n",
       "  <tbody>\n",
       "    <tr>\n",
       "      <th>count</th>\n",
       "      <td>287.000000</td>\n",
       "      <td>287.000000</td>\n",
       "      <td>287.000000</td>\n",
       "      <td>287.000000</td>\n",
       "      <td>287.000000</td>\n",
       "      <td>287.000000</td>\n",
       "      <td>287.000000</td>\n",
       "      <td>287.000000</td>\n",
       "      <td>287.000000</td>\n",
       "      <td>287.000000</td>\n",
       "    </tr>\n",
       "    <tr>\n",
       "      <th>mean</th>\n",
       "      <td>0.738676</td>\n",
       "      <td>4.912892</td>\n",
       "      <td>5.052265</td>\n",
       "      <td>-36.530882</td>\n",
       "      <td>144.932897</td>\n",
       "      <td>-36.525124</td>\n",
       "      <td>144.937535</td>\n",
       "      <td>15312.552962</td>\n",
       "      <td>3965.428711</td>\n",
       "      <td>52.638641</td>\n",
       "    </tr>\n",
       "    <tr>\n",
       "      <th>std</th>\n",
       "      <td>0.760476</td>\n",
       "      <td>2.506511</td>\n",
       "      <td>2.468130</td>\n",
       "      <td>9.916588</td>\n",
       "      <td>0.108728</td>\n",
       "      <td>9.914998</td>\n",
       "      <td>0.099455</td>\n",
       "      <td>16413.319951</td>\n",
       "      <td>3958.340980</td>\n",
       "      <td>116.459231</td>\n",
       "    </tr>\n",
       "    <tr>\n",
       "      <th>min</th>\n",
       "      <td>0.000000</td>\n",
       "      <td>1.000000</td>\n",
       "      <td>1.000000</td>\n",
       "      <td>-38.110916</td>\n",
       "      <td>144.654173</td>\n",
       "      <td>-38.110916</td>\n",
       "      <td>144.654173</td>\n",
       "      <td>936.000000</td>\n",
       "      <td>209.220000</td>\n",
       "      <td>3.730000</td>\n",
       "    </tr>\n",
       "    <tr>\n",
       "      <th>25%</th>\n",
       "      <td>0.000000</td>\n",
       "      <td>3.000000</td>\n",
       "      <td>3.000000</td>\n",
       "      <td>-37.823739</td>\n",
       "      <td>144.928113</td>\n",
       "      <td>-37.823319</td>\n",
       "      <td>144.927461</td>\n",
       "      <td>4891.000000</td>\n",
       "      <td>1251.810000</td>\n",
       "      <td>14.195000</td>\n",
       "    </tr>\n",
       "    <tr>\n",
       "      <th>50%</th>\n",
       "      <td>1.000000</td>\n",
       "      <td>5.000000</td>\n",
       "      <td>5.000000</td>\n",
       "      <td>-37.813624</td>\n",
       "      <td>144.966848</td>\n",
       "      <td>-37.814004</td>\n",
       "      <td>144.963280</td>\n",
       "      <td>8006.000000</td>\n",
       "      <td>2287.680000</td>\n",
       "      <td>21.710000</td>\n",
       "    </tr>\n",
       "    <tr>\n",
       "      <th>75%</th>\n",
       "      <td>1.000000</td>\n",
       "      <td>7.000000</td>\n",
       "      <td>7.000000</td>\n",
       "      <td>-37.804465</td>\n",
       "      <td>144.993353</td>\n",
       "      <td>-37.804341</td>\n",
       "      <td>144.990943</td>\n",
       "      <td>12348.500000</td>\n",
       "      <td>3863.760000</td>\n",
       "      <td>31.325000</td>\n",
       "    </tr>\n",
       "    <tr>\n",
       "      <th>max</th>\n",
       "      <td>3.000000</td>\n",
       "      <td>9.000000</td>\n",
       "      <td>9.000000</td>\n",
       "      <td>37.861835</td>\n",
       "      <td>145.046450</td>\n",
       "      <td>37.821855</td>\n",
       "      <td>145.046450</td>\n",
       "      <td>51032.000000</td>\n",
       "      <td>13204.980000</td>\n",
       "      <td>818.990000</td>\n",
       "    </tr>\n",
       "  </tbody>\n",
       "</table>\n",
       "</div>"
      ],
      "text/plain": [
       "        Uber Type  Origin Region  Destination Region  Origin Latitude  \\\n",
       "count  287.000000     287.000000          287.000000       287.000000   \n",
       "mean     0.738676       4.912892            5.052265       -36.530882   \n",
       "std      0.760476       2.506511            2.468130         9.916588   \n",
       "min      0.000000       1.000000            1.000000       -38.110916   \n",
       "25%      0.000000       3.000000            3.000000       -37.823739   \n",
       "50%      1.000000       5.000000            5.000000       -37.813624   \n",
       "75%      1.000000       7.000000            7.000000       -37.804465   \n",
       "max      3.000000       9.000000            9.000000        37.861835   \n",
       "\n",
       "       Origin Longitude  Destination Latitude  Destination Longitude  \\\n",
       "count        287.000000            287.000000             287.000000   \n",
       "mean         144.932897            -36.525124             144.937535   \n",
       "std            0.108728              9.914998               0.099455   \n",
       "min          144.654173            -38.110916             144.654173   \n",
       "25%          144.928113            -37.823319             144.927461   \n",
       "50%          144.966848            -37.814004             144.963280   \n",
       "75%          144.993353            -37.804341             144.990943   \n",
       "max          145.046450             37.821855             145.046450   \n",
       "\n",
       "       Journey Distance(m)  Travel Time(s)       Fare$  \n",
       "count           287.000000      287.000000  287.000000  \n",
       "mean          15312.552962     3965.428711   52.638641  \n",
       "std           16413.319951     3958.340980  116.459231  \n",
       "min             936.000000      209.220000    3.730000  \n",
       "25%            4891.000000     1251.810000   14.195000  \n",
       "50%            8006.000000     2287.680000   21.710000  \n",
       "75%           12348.500000     3863.760000   31.325000  \n",
       "max           51032.000000    13204.980000  818.990000  "
      ]
     },
     "execution_count": 3,
     "metadata": {},
     "output_type": "execute_result"
    }
   ],
   "source": [
    "dirty.describe()"
   ]
  },
  {
   "cell_type": "code",
   "execution_count": 4,
   "metadata": {},
   "outputs": [
    {
     "data": {
      "text/html": [
       "<div>\n",
       "<style scoped>\n",
       "    .dataframe tbody tr th:only-of-type {\n",
       "        vertical-align: middle;\n",
       "    }\n",
       "\n",
       "    .dataframe tbody tr th {\n",
       "        vertical-align: top;\n",
       "    }\n",
       "\n",
       "    .dataframe thead th {\n",
       "        text-align: right;\n",
       "    }\n",
       "</style>\n",
       "<table border=\"1\" class=\"dataframe\">\n",
       "  <thead>\n",
       "    <tr style=\"text-align: right;\">\n",
       "      <th></th>\n",
       "      <th>Unnamed: 0</th>\n",
       "      <th>Departure Date</th>\n",
       "      <th>Departure Time</th>\n",
       "      <th>Arrival Time</th>\n",
       "    </tr>\n",
       "  </thead>\n",
       "  <tbody>\n",
       "    <tr>\n",
       "      <th>count</th>\n",
       "      <td>287</td>\n",
       "      <td>287</td>\n",
       "      <td>287</td>\n",
       "      <td>287</td>\n",
       "    </tr>\n",
       "    <tr>\n",
       "      <th>unique</th>\n",
       "      <td>287</td>\n",
       "      <td>162</td>\n",
       "      <td>287</td>\n",
       "      <td>287</td>\n",
       "    </tr>\n",
       "    <tr>\n",
       "      <th>top</th>\n",
       "      <td>ID1766914306</td>\n",
       "      <td>2018-03-25</td>\n",
       "      <td>05:16:41</td>\n",
       "      <td>13:09:59</td>\n",
       "    </tr>\n",
       "    <tr>\n",
       "      <th>freq</th>\n",
       "      <td>1</td>\n",
       "      <td>5</td>\n",
       "      <td>1</td>\n",
       "      <td>1</td>\n",
       "    </tr>\n",
       "  </tbody>\n",
       "</table>\n",
       "</div>"
      ],
      "text/plain": [
       "          Unnamed: 0 Departure Date Departure Time Arrival Time\n",
       "count            287            287            287          287\n",
       "unique           287            162            287          287\n",
       "top     ID1766914306     2018-03-25       05:16:41     13:09:59\n",
       "freq               1              5              1            1"
      ]
     },
     "execution_count": 4,
     "metadata": {},
     "output_type": "execute_result"
    }
   ],
   "source": [
    "dirty.describe(include=['O'])"
   ]
  },
  {
   "cell_type": "markdown",
   "metadata": {},
   "source": [
    "# Uber Type Cleaning \n",
    "Cleaning the Uber Type found that uber type : 3\n",
    "- Data is cleaned based on the IDS\n",
    "- if ID is starting with ID1 then change the uber type as 0\n",
    "- if ID is starting with ID2 then change the uber type as 1\n",
    "- if ID is starting with ID3 then change the uber type as 2"
   ]
  },
  {
   "cell_type": "code",
   "execution_count": 5,
   "metadata": {},
   "outputs": [
    {
     "name": "stderr",
     "output_type": "stream",
     "text": [
      "C:\\Users\\V.PAVAN\\Anaconda3\\lib\\site-packages\\ipykernel_launcher.py:6: SettingWithCopyWarning: \n",
      "A value is trying to be set on a copy of a slice from a DataFrame\n",
      "\n",
      "See the caveats in the documentation: http://pandas.pydata.org/pandas-docs/stable/indexing.html#indexing-view-versus-copy\n",
      "  \n",
      "C:\\Users\\V.PAVAN\\Anaconda3\\lib\\site-packages\\ipykernel_launcher.py:9: SettingWithCopyWarning: \n",
      "A value is trying to be set on a copy of a slice from a DataFrame\n",
      "\n",
      "See the caveats in the documentation: http://pandas.pydata.org/pandas-docs/stable/indexing.html#indexing-view-versus-copy\n",
      "  if __name__ == '__main__':\n",
      "C:\\Users\\V.PAVAN\\Anaconda3\\lib\\site-packages\\ipykernel_launcher.py:12: SettingWithCopyWarning: \n",
      "A value is trying to be set on a copy of a slice from a DataFrame\n",
      "\n",
      "See the caveats in the documentation: http://pandas.pydata.org/pandas-docs/stable/indexing.html#indexing-view-versus-copy\n",
      "  if sys.path[0] == '':\n"
     ]
    }
   ],
   "source": [
    "ids = data['Unnamed: 0']\n",
    "uber = data['Uber Type']\n",
    "for i in range(len(uber)):\n",
    "    if str(ids[i]).startswith(\"ID1\"):\n",
    "        if uber[i] == 3:\n",
    "            uber[i] = 0\n",
    "    if str(ids[i]).startswith(\"ID3\"):\n",
    "        if uber[i] == 3:\n",
    "            uber[i] = 1\n",
    "    if str(ids[i]).startswith(\"ID5\"):\n",
    "        if uber[i] == 3:\n",
    "            uber[i] = 2\n",
    "   "
   ]
  },
  {
   "cell_type": "markdown",
   "metadata": {},
   "source": [
    "# Latitude and Longitude Celaning \n",
    "    Latiude and Longitude have -ve and +ve values , we are replacing the +ve values to the -ve values \n",
    "    But we can see that there no errors in the longitude data "
   ]
  },
  {
   "cell_type": "code",
   "execution_count": 6,
   "metadata": {},
   "outputs": [],
   "source": [
    "data.loc[data['Origin Latitude'] > 0, 'Origin Latitude'] = -abs(data['Origin Latitude'])\n",
    "data.loc[data['Destination Latitude'] > 0, 'Destination Latitude'] = -abs(data['Destination Latitude'])\n"
   ]
  },
  {
   "cell_type": "markdown",
   "metadata": {},
   "source": [
    "# Date modification\n",
    "    Checking the Departure Date and rearranging them in the proper order \n",
    "    have found few errors in the Date column \n",
    "    Swaping the data based on the month and day if month is greater than 12\n",
    "    checking the date range based on the month if days greater than 31 and for few months of 30\n"
   ]
  },
  {
   "cell_type": "code",
   "execution_count": 7,
   "metadata": {},
   "outputs": [],
   "source": [
    "#time clenaing \n",
    "date = data['Departure Date']\n",
    "newCol = [] # created the list for storing the modified date \n",
    "for date in date:\n",
    "    year,month,day = date.split(\"-\")\n",
    "    if int(month) > 12:\n",
    "        a = int(month)\n",
    "        month = int(day)\n",
    "        day = a\n",
    "        date = year+\"-\"+\"0\"+str(month)+\"-\"+str(day)\n",
    "        newCol.append(date)\n",
    "    elif int(month) in [4,6,9,11]:\n",
    "        if int(day) > 30:\n",
    "            day = 30\n",
    "            date = year+\"-\"+month+\"-\"+str(day)\n",
    "            newCol.append(date)\n",
    "        else:\n",
    "            newCol.append(date)\n",
    "    elif int(month) == 2:\n",
    "        if int(day) > 28:\n",
    "            day = 28\n",
    "            date = year+\"-\"+month+\"-\"+str(day)\n",
    "            newCol.append(date)\n",
    "        else:\n",
    "            newCol.append(date)\n",
    "    else:\n",
    "        newCol.append(date)\n",
    "data['Departure Date'] = newCol # replacing the list to the column in the data frame "
   ]
  },
  {
   "cell_type": "markdown",
   "metadata": {},
   "source": [
    "# Checking whether arrival time is greater than departure time\n",
    "    Even before correcting the arrival time but we will be checking and swaping the columns between the departure time and    arrival time, if arrivak tine is greater than the departure time "
   ]
  },
  {
   "cell_type": "code",
   "execution_count": 8,
   "metadata": {},
   "outputs": [],
   "source": [
    "time1 = data['Departure Time']\n",
    "time2 = data['Arrival Time']\n",
    "depart = [] # list is used to store the departure date \n",
    "arrival = [] # list used to store the arrival date\n",
    "for i in range(len(time1)):\n",
    "    if time1[i] > time2[i]:\n",
    "        hour,minute,second = time2[i].split(\":\")\n",
    "        if hour == \"0\":\n",
    "            depart.append(time1[i])\n",
    "            arrival.append(time2[i])\n",
    "        else:\n",
    "            depart.append(time2[i])\n",
    "            arrival.append(time1[i])\n",
    "    else:\n",
    "        depart.append(time1[i])\n",
    "        arrival.append(time2[i])\n",
    "data['Departure Time'] = depart # re-assining the list back to the departure time column and replacing the values \n",
    "data['Arrival Time'] = arrival #re-assining the list back to the arrival time column and replacing the values "
   ]
  },
  {
   "cell_type": "markdown",
   "metadata": {},
   "source": [
    "# Finding the source node and destination node based on the latitude and longitude positions to caluclate journey diatance and travel time\n",
    "    Merging the data of the two data frames based on the common columns and adding the extra column to the data data frame "
   ]
  },
  {
   "cell_type": "code",
   "execution_count": 9,
   "metadata": {},
   "outputs": [],
   "source": [
    "#slicing the source latiude and longitude data from the data data frame and storing in the frame variable \n",
    "# slicing the destination latitude and longitude data from the data data frame and storing in the frame1 variable\n",
    "# reading the data from the nodes and thn edges file \n",
    "frame = data.iloc[:,4:6] \n",
    "frame1 = data.iloc[:,6:8]\n",
    "nodes = pd.read_csv(\"nodes.csv\")\n",
    "edges = pd.read_csv(\"edges.csv\")\n",
    "#Merging the frame and nodes data and also frame1 and edges data file \n",
    "source = pd.merge(frame, nodes, how='left', left_on=['Origin Latitude','Origin Longitude'], right_on = ['lat','lon'])\n",
    "dest = pd.merge(frame1, nodes, how='left', left_on=['Destination Latitude','Destination Longitude'], right_on = ['lat','lon'])\n",
    "data['source node'] = source['Unnamed: 0'] # Adding the column to the data frame and storing as the source node \n",
    "data['dest node'] = dest['Unnamed: 0'] # Adding the column to the data frame and storing as the destination node"
   ]
  },
  {
   "cell_type": "markdown",
   "metadata": {},
   "source": [
    "# Caluclating the travel time and journey distance based on dijkstra algorithm"
   ]
  },
  {
   "cell_type": "code",
   "execution_count": 10,
   "metadata": {},
   "outputs": [],
   "source": [
    "source = data['source node']\n",
    "destination = data['dest node']\n",
    "departure = data['Departure Time']\n",
    "dist = [] # list used to store the shortest distance \n",
    "arrival_time = [] # list used to store the arrival time based on the travel time \n",
    "travel_time = [] # list used to store the tarvel time based on the shortest distance \n",
    "for j in range(len(source)):\n",
    "    G = nx.from_pandas_edgelist(edges, 'u', 'v', 'distance(m)')\n",
    "    src = source[j] # fetching the source node data \n",
    "    des = destination[j] # fetching the destination node data based on the index position \n",
    "    #Shortest Path and the distance based on the dijkstra algorithm \n",
    "    d, path = nx.single_source_dijkstra(G,source=src, target=des, weight='distance(m)')\n",
    "    dist.append(d) # assigning the distance list \n",
    "    # now we are caluclating the travel time based on the obtained shortest path \n",
    "    tt = 0\n",
    "    for i in range(len(path)-1):\n",
    "        tt = tt + (edges[((edges.u==path[i]) & (edges.v== path[i+1])) | ((edges.v==path[i]) & (edges.u== path[i+1]))]['distance(m)'].values[0] * 1.0 * 3600) / (edges[((edges.u==path[i]) & (edges.v== path[i+1])) | ((edges.v==path[i]) & (edges.u== path[i+1]))]['speed(km/h)'].values[0] * 1000)\n",
    "    travel_time.append(round(tt,2)) # Assigning to travel time to the list, rounding of the travel time to 2 decimal places \n",
    "    \n",
    "    # we are caluclating the arrival time based on the travel time obtained and we are here assuming that departure time is correct\n",
    "    time = departure[j] # fecthing the departure time based on the indexing position \n",
    "    datetime_object = datetime.datetime.strptime(time, '%H:%M:%S') #converting the data into datatime object \n",
    "    c = datetime.timedelta(seconds=tt) \n",
    "    final = datetime_object + c\n",
    "    final = final - datetime.timedelta(microseconds=final.microsecond) #removing the micro seconds from the arrival time \n",
    "    a = final.time() # fetching the time from the final date time object and storing in the variable\n",
    "    # we used time() function becuase we will be getting date and time when we are using date time object \n",
    "    arrival_time.append(str(a))# appending the variable to string after converting as string \n",
    "\n",
    "#modifying the column values based on the obatined results in the and which are stored in the list \n",
    "data['Journey Distance(m)'] = dist\n",
    "data['Travel Time(s)'] = travel_time\n",
    "data['Arrival Time'] = arrival_time"
   ]
  },
  {
   "cell_type": "markdown",
   "metadata": {},
   "source": [
    "# Checking the Origin and Destination Region based on latitude and longitude positions \n",
    "We are intially finding the mean based on the origin regions and destination regions from 1 to 9 "
   ]
  },
  {
   "cell_type": "code",
   "execution_count": 11,
   "metadata": {},
   "outputs": [],
   "source": [
    "# variable a has the means of the regions of Origin Region \n",
    "# variable b has the means of the regiond of Destination Region \n",
    "# we are considering those mean positions as the center of the Region and checking the \n",
    "a = data.groupby(['Origin Region'])['Origin Latitude',  'Origin Longitude'].mean()\n",
    "b = data.groupby(['Destination Region'])['Destination Latitude',  'Destination Longitude'].mean()\n",
    "mlat = a['Origin Latitude'] # assigning the means of Origin Latitude to the variable mlat \n",
    "mlon = a['Origin Longitude'] # assigning the means of Origin Longitude to the variable mlon\n",
    "nlat = b['Destination Latitude'] # assigning the means of Destination latitude to the variable nlat\n",
    "nlon = b['Destination Longitude'] #assigning the means of Destination longitude to the variable nlon \n"
   ]
  },
  {
   "cell_type": "markdown",
   "metadata": {},
   "source": [
    "# We found the means for each origin and strored the means of latitude and longitudes in separate variables.\n",
    "            a = sin(dlat / 2)**2 + cos(lat1) * cos(lat2) * sin(dlon / 2)**2\n",
    "            c = 2 * atan2(sqrt(a), sqrt(1 - a))\n",
    "            distance = R * c\n",
    "    Using this formula to caluclate distance between two latitude positions\n",
    "    ATAN2(y,x) returns the arc tangent of the two numbers x and y. It is similar to calculating the arc tangent of y / x, except that the signs of both arguments are used to determine the quadrant of the result. The result is an angle expressed in radians. To convert from radians to degrees, use the DEGREES function.\n",
    "    we took the radius of earth as 6378.0 "
   ]
  },
  {
   "cell_type": "code",
   "execution_count": 12,
   "metadata": {},
   "outputs": [],
   "source": [
    "olat = data['Origin Latitude']\n",
    "olon = data['Origin Longitude']\n",
    "so = [] # created the list for source origin \n",
    "do = [] # created the list destination Origin \n",
    "for i in range(len(olat)):\n",
    "    R = 6378.0\n",
    "    d = [] # craeted the list to append distances which are caluclated between different latitude positions \n",
    "    for j in range(1,10): \n",
    "        lat1 = radians(mlat[j]) \n",
    "        lon1 = radians(mlon[j])\n",
    "        lat2 = radians(olat[i])\n",
    "        lon2 = radians(olon[i])\n",
    "        dlon = lon2 - lon1\n",
    "        dlat = lat2 - lat1\n",
    "\n",
    "        a = sin(dlat / 2)**2 + cos(lat1) * cos(lat2) * sin(dlon / 2)**2\n",
    "        c = 2 * atan2(sqrt(a), sqrt(1 - a))\n",
    "        distance = R * c\n",
    "        d.append(distance)\n",
    "    # we are enumerating through the list to find the min of distance and just taking the distance \n",
    "    (m,i) = min((v,i) for i,v in enumerate(d))\n",
    "    so.append(i+1) # we are appending the minimum index position to the list by increasing the index position by 1 since \n",
    "    #list indices start from 0\n",
    "# no we are repeating the same for the longitude also    \n",
    "delat = data['Destination Latitude']\n",
    "delon = data['Destination Longitude']\n",
    "for i in range(len(olat)):\n",
    "    R = 6378.0\n",
    "    d1 = []\n",
    "    for j in range(1,10):\n",
    "        lat1 = radians(nlat[j]) \n",
    "        lon1 = radians(nlon[j])\n",
    "        lat2 = radians(delat[i])\n",
    "        lon2 = radians(delon[i])\n",
    "        dlon = lon2 - lon1\n",
    "        dlat = lat2 - lat1\n",
    "\n",
    "        a = sin(dlat / 2)**2 + cos(lat1) * cos(lat2) * sin(dlon / 2)**2\n",
    "        c = 2 * atan2(sqrt(a), sqrt(1 - a))\n",
    "        distance = R * c\n",
    "        d1.append(distance)\n",
    "    \n",
    "    (m,i) = min((v,i) for i,v in enumerate(d1))\n",
    "    do.append(i+1)\n",
    "\n",
    "data['Origin Region'] = so # we are replacing the Origin Region columns with list values \n",
    "data['Destination Region'] = do # we are replacing the Destination Region columns with list values"
   ]
  },
  {
   "cell_type": "code",
   "execution_count": 13,
   "metadata": {},
   "outputs": [
    {
     "data": {
      "text/plain": [
       "(287, 14)"
      ]
     },
     "execution_count": 13,
     "metadata": {},
     "output_type": "execute_result"
    }
   ],
   "source": [
    "data = data.drop(['source node','dest node'],axis=1) # dropping the excess columns from the data frame \n",
    "data.to_csv (r'29772990_dirty_data_solution.csv', index = None, header=True) # no we are writing back the cleaned data to the CSV file\n",
    "data.shape"
   ]
  },
  {
   "cell_type": "markdown",
   "metadata": {},
   "source": [
    "The shape of the data frame remains same with 287 * 14 "
   ]
  },
  {
   "cell_type": "markdown",
   "metadata": {},
   "source": [
    "# TASK 2 :  Missing value imputation"
   ]
  },
  {
   "cell_type": "code",
   "execution_count": 14,
   "metadata": {},
   "outputs": [
    {
     "data": {
      "text/plain": [
       "(112, 14)"
      ]
     },
     "execution_count": 14,
     "metadata": {},
     "output_type": "execute_result"
    }
   ],
   "source": [
    "# Read csv file into a pandas dataframe\n",
    "df = pd.read_csv(\"29772990_missing_value.csv\") # reading the missing value data \n",
    "data = pd.read_csv(\"29772990_dirty_data_solution.csv\") # reading the cleaned data file \n",
    "# Take a look at the first few rows\n",
    "df.shape"
   ]
  },
  {
   "cell_type": "code",
   "execution_count": 15,
   "metadata": {},
   "outputs": [
    {
     "data": {
      "text/html": [
       "<div>\n",
       "<style scoped>\n",
       "    .dataframe tbody tr th:only-of-type {\n",
       "        vertical-align: middle;\n",
       "    }\n",
       "\n",
       "    .dataframe tbody tr th {\n",
       "        vertical-align: top;\n",
       "    }\n",
       "\n",
       "    .dataframe thead th {\n",
       "        text-align: right;\n",
       "    }\n",
       "</style>\n",
       "<table border=\"1\" class=\"dataframe\">\n",
       "  <thead>\n",
       "    <tr style=\"text-align: right;\">\n",
       "      <th></th>\n",
       "      <th>Unnamed: 0</th>\n",
       "      <th>Uber Type</th>\n",
       "      <th>Origin Region</th>\n",
       "      <th>Destination Region</th>\n",
       "      <th>Origin Latitude</th>\n",
       "      <th>Origin Longitude</th>\n",
       "      <th>Destination Latitude</th>\n",
       "      <th>Destination Longitude</th>\n",
       "      <th>Journey Distance(m)</th>\n",
       "      <th>Departure Date</th>\n",
       "      <th>Departure Time</th>\n",
       "      <th>Travel Time(s)</th>\n",
       "      <th>Arrival Time</th>\n",
       "      <th>Fare$</th>\n",
       "    </tr>\n",
       "  </thead>\n",
       "  <tbody>\n",
       "    <tr>\n",
       "      <th>0</th>\n",
       "      <td>ID3470400581</td>\n",
       "      <td>1</td>\n",
       "      <td>1</td>\n",
       "      <td>8</td>\n",
       "      <td>-37.819694</td>\n",
       "      <td>144.970898</td>\n",
       "      <td>-37.815834</td>\n",
       "      <td>145.046450</td>\n",
       "      <td>7892.0</td>\n",
       "      <td>2018-07-21</td>\n",
       "      <td>20:31:33</td>\n",
       "      <td>2337.24</td>\n",
       "      <td>21:10:30</td>\n",
       "      <td>23.74</td>\n",
       "    </tr>\n",
       "    <tr>\n",
       "      <th>1</th>\n",
       "      <td>ID1798694750</td>\n",
       "      <td>0</td>\n",
       "      <td>1</td>\n",
       "      <td>9</td>\n",
       "      <td>-37.818018</td>\n",
       "      <td>144.969444</td>\n",
       "      <td>-38.110916</td>\n",
       "      <td>144.654173</td>\n",
       "      <td>44086.0</td>\n",
       "      <td>2018-01-11</td>\n",
       "      <td>10:31:37</td>\n",
       "      <td>10617.84</td>\n",
       "      <td>13:28:34</td>\n",
       "      <td>19.72</td>\n",
       "    </tr>\n",
       "    <tr>\n",
       "      <th>2</th>\n",
       "      <td>ID1928278235</td>\n",
       "      <td>0</td>\n",
       "      <td>5</td>\n",
       "      <td>1</td>\n",
       "      <td>-37.813955</td>\n",
       "      <td>144.929840</td>\n",
       "      <td>-37.811976</td>\n",
       "      <td>144.963768</td>\n",
       "      <td>4157.0</td>\n",
       "      <td>2018-01-11</td>\n",
       "      <td>18:30:07</td>\n",
       "      <td>1055.04</td>\n",
       "      <td>18:47:42</td>\n",
       "      <td>9.25</td>\n",
       "    </tr>\n",
       "    <tr>\n",
       "      <th>3</th>\n",
       "      <td>ID1444983790</td>\n",
       "      <td>0</td>\n",
       "      <td>9</td>\n",
       "      <td>5</td>\n",
       "      <td>-38.110916</td>\n",
       "      <td>144.654173</td>\n",
       "      <td>-37.802878</td>\n",
       "      <td>144.929662</td>\n",
       "      <td>44010.0</td>\n",
       "      <td>2018-05-19</td>\n",
       "      <td>09:19:45</td>\n",
       "      <td>10546.98</td>\n",
       "      <td>12:15:31</td>\n",
       "      <td>25.23</td>\n",
       "    </tr>\n",
       "    <tr>\n",
       "      <th>4</th>\n",
       "      <td>ID3595158152</td>\n",
       "      <td>1</td>\n",
       "      <td>4</td>\n",
       "      <td>9</td>\n",
       "      <td>-37.801164</td>\n",
       "      <td>145.009123</td>\n",
       "      <td>-38.110916</td>\n",
       "      <td>144.654173</td>\n",
       "      <td>48432.0</td>\n",
       "      <td>2018-07-12</td>\n",
       "      <td>16:40:47</td>\n",
       "      <td>11741.28</td>\n",
       "      <td>19:56:28</td>\n",
       "      <td>58.97</td>\n",
       "    </tr>\n",
       "  </tbody>\n",
       "</table>\n",
       "</div>"
      ],
      "text/plain": [
       "     Unnamed: 0  Uber Type  Origin Region  Destination Region  \\\n",
       "0  ID3470400581          1              1                   8   \n",
       "1  ID1798694750          0              1                   9   \n",
       "2  ID1928278235          0              5                   1   \n",
       "3  ID1444983790          0              9                   5   \n",
       "4  ID3595158152          1              4                   9   \n",
       "\n",
       "   Origin Latitude  Origin Longitude  Destination Latitude  \\\n",
       "0       -37.819694        144.970898            -37.815834   \n",
       "1       -37.818018        144.969444            -38.110916   \n",
       "2       -37.813955        144.929840            -37.811976   \n",
       "3       -38.110916        144.654173            -37.802878   \n",
       "4       -37.801164        145.009123            -38.110916   \n",
       "\n",
       "   Destination Longitude  Journey Distance(m) Departure Date Departure Time  \\\n",
       "0             145.046450               7892.0     2018-07-21       20:31:33   \n",
       "1             144.654173              44086.0     2018-01-11       10:31:37   \n",
       "2             144.963768               4157.0     2018-01-11       18:30:07   \n",
       "3             144.929662              44010.0     2018-05-19       09:19:45   \n",
       "4             144.654173              48432.0     2018-07-12       16:40:47   \n",
       "\n",
       "   Travel Time(s) Arrival Time  Fare$  \n",
       "0         2337.24     21:10:30  23.74  \n",
       "1        10617.84     13:28:34  19.72  \n",
       "2         1055.04     18:47:42   9.25  \n",
       "3        10546.98     12:15:31  25.23  \n",
       "4        11741.28     19:56:28  58.97  "
      ]
     },
     "execution_count": 15,
     "metadata": {},
     "output_type": "execute_result"
    }
   ],
   "source": [
    "data.head() # cleaned data data frame "
   ]
  },
  {
   "cell_type": "code",
   "execution_count": 16,
   "metadata": {},
   "outputs": [
    {
     "data": {
      "text/html": [
       "<div>\n",
       "<style scoped>\n",
       "    .dataframe tbody tr th:only-of-type {\n",
       "        vertical-align: middle;\n",
       "    }\n",
       "\n",
       "    .dataframe tbody tr th {\n",
       "        vertical-align: top;\n",
       "    }\n",
       "\n",
       "    .dataframe thead th {\n",
       "        text-align: right;\n",
       "    }\n",
       "</style>\n",
       "<table border=\"1\" class=\"dataframe\">\n",
       "  <thead>\n",
       "    <tr style=\"text-align: right;\">\n",
       "      <th></th>\n",
       "      <th>Unnamed: 0</th>\n",
       "      <th>Uber Type</th>\n",
       "      <th>Origin Region</th>\n",
       "      <th>Destination Region</th>\n",
       "      <th>Origin Latitude</th>\n",
       "      <th>Origin Longitude</th>\n",
       "      <th>Destination Latitude</th>\n",
       "      <th>Destination Longitude</th>\n",
       "      <th>Journey Distance(m)</th>\n",
       "      <th>Departure Date</th>\n",
       "      <th>Departure Time</th>\n",
       "      <th>Travel Time(s)</th>\n",
       "      <th>Arrival Time</th>\n",
       "      <th>Fare$</th>\n",
       "    </tr>\n",
       "  </thead>\n",
       "  <tbody>\n",
       "    <tr>\n",
       "      <th>0</th>\n",
       "      <td>ID1251966690</td>\n",
       "      <td>NaN</td>\n",
       "      <td>2</td>\n",
       "      <td>4</td>\n",
       "      <td>-37.812283</td>\n",
       "      <td>144.938491</td>\n",
       "      <td>-37.800756</td>\n",
       "      <td>145.018672</td>\n",
       "      <td>8804.0</td>\n",
       "      <td>2018-02-08</td>\n",
       "      <td>13:24:25</td>\n",
       "      <td>2303.82</td>\n",
       "      <td>14:02:48</td>\n",
       "      <td>8.78</td>\n",
       "    </tr>\n",
       "    <tr>\n",
       "      <th>1</th>\n",
       "      <td>ID3735552830</td>\n",
       "      <td>1.0</td>\n",
       "      <td>5</td>\n",
       "      <td>3</td>\n",
       "      <td>-37.803748</td>\n",
       "      <td>144.930750</td>\n",
       "      <td>-37.809713</td>\n",
       "      <td>144.987961</td>\n",
       "      <td>5320.0</td>\n",
       "      <td>2018-06-27</td>\n",
       "      <td>15:29:28</td>\n",
       "      <td>1308.00</td>\n",
       "      <td>15:51:16</td>\n",
       "      <td>16.20</td>\n",
       "    </tr>\n",
       "    <tr>\n",
       "      <th>2</th>\n",
       "      <td>ID3119025914</td>\n",
       "      <td>1.0</td>\n",
       "      <td>6</td>\n",
       "      <td>2</td>\n",
       "      <td>-37.787442</td>\n",
       "      <td>144.980409</td>\n",
       "      <td>-37.822145</td>\n",
       "      <td>144.950052</td>\n",
       "      <td>5480.0</td>\n",
       "      <td>2018-02-01</td>\n",
       "      <td>07:21:34</td>\n",
       "      <td>1359.84</td>\n",
       "      <td>7:44:13</td>\n",
       "      <td>10.39</td>\n",
       "    </tr>\n",
       "    <tr>\n",
       "      <th>3</th>\n",
       "      <td>ID1205309681</td>\n",
       "      <td>NaN</td>\n",
       "      <td>7</td>\n",
       "      <td>3</td>\n",
       "      <td>-37.861835</td>\n",
       "      <td>144.905716</td>\n",
       "      <td>-37.808845</td>\n",
       "      <td>144.983892</td>\n",
       "      <td>9689.0</td>\n",
       "      <td>2018-06-12</td>\n",
       "      <td>03:01:21</td>\n",
       "      <td>3257.34</td>\n",
       "      <td>3:55:38</td>\n",
       "      <td>14.81</td>\n",
       "    </tr>\n",
       "    <tr>\n",
       "      <th>4</th>\n",
       "      <td>ID1153083292</td>\n",
       "      <td>NaN</td>\n",
       "      <td>7</td>\n",
       "      <td>8</td>\n",
       "      <td>-37.861835</td>\n",
       "      <td>144.905716</td>\n",
       "      <td>-37.815834</td>\n",
       "      <td>145.046450</td>\n",
       "      <td>15151.0</td>\n",
       "      <td>2018-06-03</td>\n",
       "      <td>03:53:29</td>\n",
       "      <td>4911.60</td>\n",
       "      <td>5:15:20</td>\n",
       "      <td>18.73</td>\n",
       "    </tr>\n",
       "  </tbody>\n",
       "</table>\n",
       "</div>"
      ],
      "text/plain": [
       "     Unnamed: 0  Uber Type  Origin Region  Destination Region  \\\n",
       "0  ID1251966690        NaN              2                   4   \n",
       "1  ID3735552830        1.0              5                   3   \n",
       "2  ID3119025914        1.0              6                   2   \n",
       "3  ID1205309681        NaN              7                   3   \n",
       "4  ID1153083292        NaN              7                   8   \n",
       "\n",
       "   Origin Latitude  Origin Longitude  Destination Latitude  \\\n",
       "0       -37.812283        144.938491            -37.800756   \n",
       "1       -37.803748        144.930750            -37.809713   \n",
       "2       -37.787442        144.980409            -37.822145   \n",
       "3       -37.861835        144.905716            -37.808845   \n",
       "4       -37.861835        144.905716            -37.815834   \n",
       "\n",
       "   Destination Longitude  Journey Distance(m) Departure Date Departure Time  \\\n",
       "0             145.018672               8804.0     2018-02-08       13:24:25   \n",
       "1             144.987961               5320.0     2018-06-27       15:29:28   \n",
       "2             144.950052               5480.0     2018-02-01       07:21:34   \n",
       "3             144.983892               9689.0     2018-06-12       03:01:21   \n",
       "4             145.046450              15151.0     2018-06-03       03:53:29   \n",
       "\n",
       "   Travel Time(s) Arrival Time  Fare$  \n",
       "0         2303.82     14:02:48   8.78  \n",
       "1         1308.00     15:51:16  16.20  \n",
       "2         1359.84      7:44:13  10.39  \n",
       "3         3257.34      3:55:38  14.81  \n",
       "4         4911.60      5:15:20  18.73  "
      ]
     },
     "execution_count": 16,
     "metadata": {},
     "output_type": "execute_result"
    }
   ],
   "source": [
    "df.head() # missing data data frame "
   ]
  },
  {
   "cell_type": "code",
   "execution_count": 17,
   "metadata": {},
   "outputs": [
    {
     "name": "stdout",
     "output_type": "stream",
     "text": [
      "Unnamed: 0                0\n",
      "Uber Type                20\n",
      "Origin Region             0\n",
      "Destination Region        0\n",
      "Origin Latitude           0\n",
      "Origin Longitude          0\n",
      "Destination Latitude      0\n",
      "Destination Longitude     0\n",
      "Journey Distance(m)       0\n",
      "Departure Date            0\n",
      "Departure Time            0\n",
      "Travel Time(s)            0\n",
      "Arrival Time              0\n",
      "Fare$                    18\n",
      "dtype: int64\n"
     ]
    }
   ],
   "source": [
    "print(df.isnull().sum())"
   ]
  },
  {
   "cell_type": "markdown",
   "metadata": {},
   "source": [
    "As we can see that there are: 20 missing values in Uber Type 0 and 18 missing values in fare column"
   ]
  },
  {
   "cell_type": "markdown",
   "metadata": {},
   "source": [
    "# Replacing the missing values in the Uber Type\n",
    "replacing the values based on the ID Type"
   ]
  },
  {
   "cell_type": "code",
   "execution_count": 18,
   "metadata": {},
   "outputs": [
    {
     "name": "stderr",
     "output_type": "stream",
     "text": [
      "C:\\Users\\V.PAVAN\\Anaconda3\\lib\\site-packages\\ipykernel_launcher.py:7: SettingWithCopyWarning: \n",
      "A value is trying to be set on a copy of a slice from a DataFrame\n",
      "\n",
      "See the caveats in the documentation: http://pandas.pydata.org/pandas-docs/stable/indexing.html#indexing-view-versus-copy\n",
      "  import sys\n",
      "C:\\Users\\V.PAVAN\\Anaconda3\\lib\\site-packages\\ipykernel_launcher.py:10: SettingWithCopyWarning: \n",
      "A value is trying to be set on a copy of a slice from a DataFrame\n",
      "\n",
      "See the caveats in the documentation: http://pandas.pydata.org/pandas-docs/stable/indexing.html#indexing-view-versus-copy\n",
      "  # Remove the CWD from sys.path while we load stuff.\n",
      "C:\\Users\\V.PAVAN\\Anaconda3\\lib\\site-packages\\ipykernel_launcher.py:13: SettingWithCopyWarning: \n",
      "A value is trying to be set on a copy of a slice from a DataFrame\n",
      "\n",
      "See the caveats in the documentation: http://pandas.pydata.org/pandas-docs/stable/indexing.html#indexing-view-versus-copy\n",
      "  del sys.path[0]\n"
     ]
    }
   ],
   "source": [
    "ids = df['Unnamed: 0']\n",
    "uber = df['Uber Type']\n",
    "for i in range(len(uber)):\n",
    "    u = str(uber[i])\n",
    "    if str(ids[i]).startswith(\"ID1\"): \n",
    "        if u == \"nan\": \n",
    "            uber[i] = 0 # if ID starts with ID1 then we are marking the Uber Type as 0\n",
    "    if str(ids[i]).startswith(\"ID3\"):\n",
    "        if u == \"nan\":\n",
    "            uber[i] = 1 #if ID starts with ID3 then we are marking the Uber Type as 1\n",
    "    if str(ids[i]).startswith(\"ID5\"):\n",
    "        if u == \"nan\":\n",
    "            uber[i] = 2 #if ID starts with ID5 then we are marking the Uber Type as 2"
   ]
  },
  {
   "cell_type": "markdown",
   "metadata": {},
   "source": [
    "# Categorical representation for Departure Time\n",
    "    Time of the departure. We know that the Uber company has a\n",
    "    specific rule to define a discrete number for \n",
    "    morning (i.e. 0) (6:00:00 - 11:59:59), \n",
    "    afternoon (i.e. 1) (12:00:00 - 20:59:59),\n",
    "    night (i.e. 2) (21:00 - 5:59:59) \n",
    "    to calculate the fare."
   ]
  },
  {
   "cell_type": "code",
   "execution_count": 19,
   "metadata": {},
   "outputs": [
    {
     "name": "stderr",
     "output_type": "stream",
     "text": [
      "C:\\Users\\V.PAVAN\\Anaconda3\\lib\\site-packages\\ipykernel_launcher.py:18: SettingWithCopyWarning: \n",
      "A value is trying to be set on a copy of a slice from a DataFrame\n",
      "\n",
      "See the caveats in the documentation: http://pandas.pydata.org/pandas-docs/stable/indexing.html#indexing-view-versus-copy\n",
      "C:\\Users\\V.PAVAN\\Anaconda3\\lib\\site-packages\\ipykernel_launcher.py:24: SettingWithCopyWarning: \n",
      "A value is trying to be set on a copy of a slice from a DataFrame\n",
      "\n",
      "See the caveats in the documentation: http://pandas.pydata.org/pandas-docs/stable/indexing.html#indexing-view-versus-copy\n"
     ]
    }
   ],
   "source": [
    "# function returns the categorical value 0,1,2 based on the hour value as the input provided \n",
    "def get_part_of_day(hour):\n",
    "    return (\n",
    "        \"0\" if 6 <= hour < 12 # returns 0 if the hour range is in between 6 and 11\n",
    "        else\n",
    "        \"1\" if 12 <= hour <= 21 # returns 1 if the hour range is in between 12 and 21\n",
    "        else\n",
    "        \"2\"    # returns 2 if the hour range is in between 21 and 5\n",
    "    )\n",
    "# If you want to use current hour:\n",
    "# from datetime import datetime\n",
    "# h = datetime.now().hour\n",
    "dat = data['Departure Time'] # storing the values of Departure Time into the dat variable \n",
    "for i in range(len(dat)):\n",
    "    h = dat[i] # picking the value from the list of times \n",
    "    date = datetime.datetime.strptime(h, \"%H:%M:%S\") # converting the string value to the data time object \n",
    "    a = get_part_of_day(date.hour) #picking only the hour from the time and calling the function \n",
    "    data['Departure Time'][i] = int(a)  #replacing the value in the column with the returned categorical value \n",
    "dat1 = df['Departure Time'] # repating the same with the missing data \n",
    "for i in range(len(dat1)):\n",
    "    h = dat1[i]\n",
    "    date = datetime.datetime.strptime(h, \"%H:%M:%S\")\n",
    "    a = get_part_of_day(date.hour)\n",
    "    df['Departure Time'][i] = int(a)"
   ]
  },
  {
   "cell_type": "markdown",
   "metadata": {},
   "source": [
    "# Categorical representation of Departure Date\n",
    "    Date of the departure. We know that the price is different on weekdays compared to weekends.\n",
    "    Monday till Friday are considered as weekdays and reperesnted with 0 \n",
    "    Saturday and Sunday are considered as weekends and reperesnted with 1"
   ]
  },
  {
   "cell_type": "code",
   "execution_count": 20,
   "metadata": {},
   "outputs": [
    {
     "name": "stderr",
     "output_type": "stream",
     "text": [
      "C:\\Users\\V.PAVAN\\Anaconda3\\lib\\site-packages\\ipykernel_launcher.py:14: SettingWithCopyWarning: \n",
      "A value is trying to be set on a copy of a slice from a DataFrame\n",
      "\n",
      "See the caveats in the documentation: http://pandas.pydata.org/pandas-docs/stable/indexing.html#indexing-view-versus-copy\n",
      "  \n",
      "C:\\Users\\V.PAVAN\\Anaconda3\\lib\\site-packages\\ipykernel_launcher.py:20: SettingWithCopyWarning: \n",
      "A value is trying to be set on a copy of a slice from a DataFrame\n",
      "\n",
      "See the caveats in the documentation: http://pandas.pydata.org/pandas-docs/stable/indexing.html#indexing-view-versus-copy\n"
     ]
    }
   ],
   "source": [
    "# Function returns the categorical value 0 and 1 based on weekday and weekend \n",
    "def get_day(hour):\n",
    "    return (\n",
    "        \"0\" if 0 <= hour <= 4 # Monday till Friday are considered as 0\n",
    "        else # staurday and sunday are considered as 1\n",
    "        \"1\"           \n",
    "    )\n",
    "\n",
    "dep = data['Departure Date'] # picking the values of the cleaned data \n",
    "for i in range(len(dep)):\n",
    "    year,month,day = dep[i].split(\"-\") # splitting the string into year month and  day\n",
    "    today = datetime.datetime(int(year), int(month), int(day)) # converting them to the date time object \n",
    "    a = get_day(today.weekday()) #Return the day of the week as an integer, where Monday is 0 and Sunday is 6.\n",
    "    data['Departure Date'][i] = int(a) # replacing the column value with the categorical value\n",
    "dep1 = df['Departure Date'] #picking the values from the missing datafrmae \n",
    "for i in range(len(dep1)):\n",
    "    year,month,day = dep1[i].split(\"-\")\n",
    "    today = datetime.datetime(int(year), int(month), int(day))\n",
    "    a = get_day(today.weekday()) # Return the day of the week as an integer, where Monday is 0 and Sunday is 6.\n",
    "    df['Departure Date'][i] = int(a) # replacing the column value with the categorical value"
   ]
  },
  {
   "cell_type": "markdown",
   "metadata": {},
   "source": [
    "# Perform the Regreesion Analyis to predict the fare values\n",
    "- splitting the data based on the uber type \n",
    "- Declaring the Linear Regression for each of the uber type \n",
    "- Creating the Test split function, means creating the source variables and target variable \n",
    "  here our source varibales will be uber type, Journey Distance, Departure Date, Departure Time, Travel Time\n",
    "  and our target variable will be Fare\n",
    "- fitting the x and y values to the regression coefficient to caluclate the vlaues "
   ]
  },
  {
   "cell_type": "markdown",
   "metadata": {},
   "source": [
    "# Where the Fare is dependent on the particular columns\n",
    "    -Uber Type\n",
    "    -Journey Distance(m)\n",
    "    -Departure Date\n",
    "    -Departure Time\n",
    "    -Travel Time(s)\n",
    "    We are dropping the other columns other than the dependent colums of fare"
   ]
  },
  {
   "cell_type": "code",
   "execution_count": 21,
   "metadata": {},
   "outputs": [],
   "source": [
    "#dropping the columns that are not correlated to the fair column from the cleaned data \n",
    "#data is the cleaned data data frame\n",
    "dropped =  data.drop(['Unnamed: 0','Origin Region','Destination Region','Origin Latitude','Origin Longitude','Destination Latitude','Destination Longitude','Arrival Time'],axis=1)\n",
    "lm_fitting_df0 = dropped[dropped['Uber Type'] == 0] # varibale has the data with the Uber Type as 0\n",
    "lm_fitting_df1 = dropped[dropped['Uber Type'] == 1] # varibale has the data with the Uber Type as 1\n",
    "lm_fitting_df2 = dropped[dropped['Uber Type'] == 2] # variable has the data with the Uber Tyoe as 2"
   ]
  },
  {
   "cell_type": "code",
   "execution_count": 22,
   "metadata": {},
   "outputs": [],
   "source": [
    "# creating the regression varibale for each uber type \n",
    "reg0 = LinearRegression() \n",
    "reg1 = LinearRegression()\n",
    "reg2 = LinearRegression()"
   ]
  },
  {
   "cell_type": "code",
   "execution_count": 23,
   "metadata": {},
   "outputs": [],
   "source": [
    "# Creating the Test split functions for each uber type\n",
    "X0_train, X0_test, y0_train, y0_test = train_test_split(lm_fitting_df0[['Journey Distance(m)','Departure Date','Departure Time','Travel Time(s)']],lm_fitting_df0['Fare$'],random_state = 100)\n",
    "X1_train, X1_test, y1_train, y1_test = train_test_split(lm_fitting_df1[['Journey Distance(m)','Departure Date','Departure Time','Travel Time(s)']],lm_fitting_df1['Fare$'],random_state = 100)\n",
    "X2_train, X2_test, y2_train, y2_test = train_test_split(lm_fitting_df2[['Journey Distance(m)','Departure Date','Departure Time','Travel Time(s)']],lm_fitting_df2['Fare$'],random_state = 100)"
   ]
  },
  {
   "cell_type": "code",
   "execution_count": 24,
   "metadata": {},
   "outputs": [
    {
     "data": {
      "text/plain": [
       "LinearRegression(copy_X=True, fit_intercept=True, n_jobs=None, normalize=False)"
      ]
     },
     "execution_count": 24,
     "metadata": {},
     "output_type": "execute_result"
    }
   ],
   "source": [
    "# regression fit \n",
    "reg0.fit(X0_train,y0_train)\n",
    "reg1.fit(X1_train,y1_train)\n",
    "reg2.fit(X2_train,y2_train)"
   ]
  },
  {
   "cell_type": "markdown",
   "metadata": {},
   "source": [
    "    Caluclating the r-score for the models\n",
    "\n",
    "-R-squared is always between 0 and 100%:\n",
    "\n",
    "0% indicates that the model explains none of the variability of the response data around its mean. 100% indicates that the model explains all the variability of the response data around its mean."
   ]
  },
  {
   "cell_type": "code",
   "execution_count": 25,
   "metadata": {},
   "outputs": [
    {
     "name": "stdout",
     "output_type": "stream",
     "text": [
      "r-squared for this model of Uber Type 0 =  0.9618194543145867\n",
      "r-squared for this model of Uber Type 1 =  0.959306493626307\n",
      "r-squared for this model of Uber Type 2 =  0.9930897800372022\n"
     ]
    }
   ],
   "source": [
    "a = reg0.score(X0_test,y0_test)\n",
    "b = reg1.score(X1_test,y1_test)\n",
    "c = reg2.score(X2_test,y2_test)\n",
    "print ('r-squared for this model of Uber Type 0 = ',a)\n",
    "print ('r-squared for this model of Uber Type 1 = ',b)\n",
    "print ('r-squared for this model of Uber Type 2 = ',c)"
   ]
  },
  {
   "cell_type": "markdown",
   "metadata": {},
   "source": [
    "    Repaeting the same for the missing value data\n",
    "    Extarcting the data of each uber type for only the missing values \n",
    "    predicting the fare value for the missing data by using model created above\n",
    "    reg0 - model for uber type 0\n",
    "    reg1 - model for uber type 1\n",
    "    reg2 - model for uber type 2"
   ]
  },
  {
   "cell_type": "code",
   "execution_count": 26,
   "metadata": {},
   "outputs": [],
   "source": [
    "missing = df.drop(['Unnamed: 0','Origin Region','Destination Region','Origin Latitude','Origin Longitude','Destination Latitude','Destination Longitude','Arrival Time',],axis=1)\n",
    "null_data = missing[missing['Fare$'].isnull()] # considering the data with the null values in the fare column \n",
    "lm_fitting_data0 = null_data[null_data['Uber Type'] == 0] # variable with data of uber type as 0 and fare column has null values \n",
    "lm_fitting_data1 = null_data[null_data['Uber Type'] == 1] # variable with data of uber type as 1 and fare column has null values\n",
    "lm_fitting_data2 = null_data[null_data['Uber Type'] == 2] # variable with data of uber type as 2 and fare column has null values\n"
   ]
  },
  {
   "cell_type": "code",
   "execution_count": 27,
   "metadata": {},
   "outputs": [
    {
     "name": "stdout",
     "output_type": "stream",
     "text": [
      "[258.58652336 119.28801765 730.99996135 107.73320567  72.57072368]\n"
     ]
    },
    {
     "name": "stderr",
     "output_type": "stream",
     "text": [
      "C:\\Users\\V.PAVAN\\Anaconda3\\lib\\site-packages\\ipykernel_launcher.py:5: SettingWithCopyWarning: \n",
      "A value is trying to be set on a copy of a slice from a DataFrame.\n",
      "Try using .loc[row_indexer,col_indexer] = value instead\n",
      "\n",
      "See the caveats in the documentation: http://pandas.pydata.org/pandas-docs/stable/indexing.html#indexing-view-versus-copy\n",
      "  \"\"\"\n",
      "C:\\Users\\V.PAVAN\\Anaconda3\\lib\\site-packages\\ipykernel_launcher.py:6: SettingWithCopyWarning: \n",
      "A value is trying to be set on a copy of a slice from a DataFrame.\n",
      "Try using .loc[row_indexer,col_indexer] = value instead\n",
      "\n",
      "See the caveats in the documentation: http://pandas.pydata.org/pandas-docs/stable/indexing.html#indexing-view-versus-copy\n",
      "  \n",
      "C:\\Users\\V.PAVAN\\Anaconda3\\lib\\site-packages\\ipykernel_launcher.py:7: SettingWithCopyWarning: \n",
      "A value is trying to be set on a copy of a slice from a DataFrame.\n",
      "Try using .loc[row_indexer,col_indexer] = value instead\n",
      "\n",
      "See the caveats in the documentation: http://pandas.pydata.org/pandas-docs/stable/indexing.html#indexing-view-versus-copy\n",
      "  import sys\n"
     ]
    }
   ],
   "source": [
    "# predicting the fare values with the cleaned data model created \n",
    "miss0 = reg0.predict(lm_fitting_data0[['Journey Distance(m)','Departure Date','Departure Time','Travel Time(s)']])\n",
    "miss1 = reg1.predict(lm_fitting_data1[['Journey Distance(m)','Departure Date','Departure Time','Travel Time(s)']])\n",
    "miss2 = reg2.predict(lm_fitting_data2[['Journey Distance(m)','Departure Date','Departure Time','Travel Time(s)']])\n",
    "lm_fitting_data0['Fare$'] = miss0 # replacing the predicted values of uber type 0 in the null positions \n",
    "lm_fitting_data1['Fare$'] = miss1 # replacing the predicted values of uber type 1 in the null positions \n",
    "lm_fitting_data2['Fare$'] = miss2 # replacing the predicted values of uber type 2 in the null positions \n",
    "print(miss2)"
   ]
  },
  {
   "cell_type": "markdown",
   "metadata": {},
   "source": [
    "Imputing the missing data based on their index positions "
   ]
  },
  {
   "cell_type": "code",
   "execution_count": 28,
   "metadata": {},
   "outputs": [
    {
     "name": "stderr",
     "output_type": "stream",
     "text": [
      "C:\\Users\\V.PAVAN\\Anaconda3\\lib\\site-packages\\ipykernel_launcher.py:5: SettingWithCopyWarning: \n",
      "A value is trying to be set on a copy of a slice from a DataFrame\n",
      "\n",
      "See the caveats in the documentation: http://pandas.pydata.org/pandas-docs/stable/indexing.html#indexing-view-versus-copy\n",
      "  \"\"\"\n",
      "C:\\Users\\V.PAVAN\\Anaconda3\\lib\\site-packages\\ipykernel_launcher.py:10: SettingWithCopyWarning: \n",
      "A value is trying to be set on a copy of a slice from a DataFrame\n",
      "\n",
      "See the caveats in the documentation: http://pandas.pydata.org/pandas-docs/stable/indexing.html#indexing-view-versus-copy\n",
      "  # Remove the CWD from sys.path while we load stuff.\n",
      "C:\\Users\\V.PAVAN\\Anaconda3\\lib\\site-packages\\ipykernel_launcher.py:15: SettingWithCopyWarning: \n",
      "A value is trying to be set on a copy of a slice from a DataFrame\n",
      "\n",
      "See the caveats in the documentation: http://pandas.pydata.org/pandas-docs/stable/indexing.html#indexing-view-versus-copy\n",
      "  from ipykernel import kernelapp as app\n"
     ]
    }
   ],
   "source": [
    "# now we are predicted fare values to the original data frame \n",
    "miss0=list(miss0)\n",
    "n=0\n",
    "for value in list(lm_fitting_data0.index):\n",
    "    df['Fare$'][value]=round(miss0[n],2) \n",
    "    n+=1\n",
    "miss1=list(miss1)\n",
    "n=0\n",
    "for value in list(lm_fitting_data1.index):\n",
    "    df['Fare$'][value]=round(miss1[n],2) \n",
    "    n+=1\n",
    "n=0\n",
    "miss2=list(miss2)\n",
    "for value in list(lm_fitting_data2.index):\n",
    "    df['Fare$'][value]=round(miss2[n],2) \n",
    "    n+=1"
   ]
  },
  {
   "cell_type": "code",
   "execution_count": 29,
   "metadata": {},
   "outputs": [
    {
     "name": "stdout",
     "output_type": "stream",
     "text": [
      "Unnamed: 0               0\n",
      "Uber Type                0\n",
      "Origin Region            0\n",
      "Destination Region       0\n",
      "Origin Latitude          0\n",
      "Origin Longitude         0\n",
      "Destination Latitude     0\n",
      "Destination Longitude    0\n",
      "Journey Distance(m)      0\n",
      "Departure Date           0\n",
      "Departure Time           0\n",
      "Travel Time(s)           0\n",
      "Arrival Time             0\n",
      "Fare$                    0\n",
      "dtype: int64\n"
     ]
    }
   ],
   "source": [
    "print(df.isnull().sum())"
   ]
  },
  {
   "cell_type": "markdown",
   "metadata": {},
   "source": [
    "we can see that there are no more missing values in the data, missing values have been imputed with the predicted data"
   ]
  },
  {
   "cell_type": "code",
   "execution_count": 30,
   "metadata": {},
   "outputs": [
    {
     "data": {
      "text/plain": [
       "(112, 14)"
      ]
     },
     "execution_count": 30,
     "metadata": {},
     "output_type": "execute_result"
    }
   ],
   "source": [
    "df.to_csv (r'29772990.missing_value_solution.csv', index = None, header=True) # writing the data to csv file \n",
    "df.shape"
   ]
  },
  {
   "cell_type": "markdown",
   "metadata": {},
   "source": [
    "# TASK 3 : Detecing the outliers and removing from the data "
   ]
  },
  {
   "cell_type": "markdown",
   "metadata": {},
   "source": [
    "Using the three data files to detect the outliers\n",
    "\n",
    "- Outliers file \n",
    "- cleaned data file \n",
    "- missing data file "
   ]
  },
  {
   "cell_type": "code",
   "execution_count": 31,
   "metadata": {},
   "outputs": [
    {
     "data": {
      "text/html": [
       "<div>\n",
       "<style scoped>\n",
       "    .dataframe tbody tr th:only-of-type {\n",
       "        vertical-align: middle;\n",
       "    }\n",
       "\n",
       "    .dataframe tbody tr th {\n",
       "        vertical-align: top;\n",
       "    }\n",
       "\n",
       "    .dataframe thead th {\n",
       "        text-align: right;\n",
       "    }\n",
       "</style>\n",
       "<table border=\"1\" class=\"dataframe\">\n",
       "  <thead>\n",
       "    <tr style=\"text-align: right;\">\n",
       "      <th></th>\n",
       "      <th>Unnamed: 0</th>\n",
       "      <th>Unnamed: 0.1</th>\n",
       "      <th>Uber Type</th>\n",
       "      <th>Origin Region</th>\n",
       "      <th>Destination Region</th>\n",
       "      <th>Origin Latitude</th>\n",
       "      <th>Origin Longitude</th>\n",
       "      <th>Destination Latitude</th>\n",
       "      <th>Destination Longitude</th>\n",
       "      <th>Journey Distance(m)</th>\n",
       "      <th>Departure Date</th>\n",
       "      <th>Departure Time</th>\n",
       "      <th>Travel Time(s)</th>\n",
       "      <th>Arrival Time</th>\n",
       "      <th>Fare$</th>\n",
       "    </tr>\n",
       "  </thead>\n",
       "  <tbody>\n",
       "    <tr>\n",
       "      <th>0</th>\n",
       "      <td>0</td>\n",
       "      <td>ID5682529146</td>\n",
       "      <td>2</td>\n",
       "      <td>1</td>\n",
       "      <td>8</td>\n",
       "      <td>-37.807509</td>\n",
       "      <td>144.962853</td>\n",
       "      <td>-37.815834</td>\n",
       "      <td>145.046450</td>\n",
       "      <td>7465.0</td>\n",
       "      <td>2018-05-24</td>\n",
       "      <td>09:44:18</td>\n",
       "      <td>2176.74</td>\n",
       "      <td>10:20:34</td>\n",
       "      <td>231.300</td>\n",
       "    </tr>\n",
       "    <tr>\n",
       "      <th>1</th>\n",
       "      <td>1</td>\n",
       "      <td>ID3212336499</td>\n",
       "      <td>1</td>\n",
       "      <td>4</td>\n",
       "      <td>2</td>\n",
       "      <td>-37.810420</td>\n",
       "      <td>145.010473</td>\n",
       "      <td>-37.817380</td>\n",
       "      <td>144.948896</td>\n",
       "      <td>6397.0</td>\n",
       "      <td>2018-01-03</td>\n",
       "      <td>10:33:33</td>\n",
       "      <td>1498.56</td>\n",
       "      <td>10:58:31</td>\n",
       "      <td>9.240</td>\n",
       "    </tr>\n",
       "    <tr>\n",
       "      <th>2</th>\n",
       "      <td>2</td>\n",
       "      <td>ID1579717413</td>\n",
       "      <td>0</td>\n",
       "      <td>8</td>\n",
       "      <td>3</td>\n",
       "      <td>-37.815834</td>\n",
       "      <td>145.046450</td>\n",
       "      <td>-37.818663</td>\n",
       "      <td>144.996477</td>\n",
       "      <td>5177.0</td>\n",
       "      <td>2018-06-06</td>\n",
       "      <td>02:21:25</td>\n",
       "      <td>1591.20</td>\n",
       "      <td>2:47:56</td>\n",
       "      <td>16.290</td>\n",
       "    </tr>\n",
       "    <tr>\n",
       "      <th>3</th>\n",
       "      <td>3</td>\n",
       "      <td>ID1565599989</td>\n",
       "      <td>0</td>\n",
       "      <td>9</td>\n",
       "      <td>8</td>\n",
       "      <td>-38.110916</td>\n",
       "      <td>144.654173</td>\n",
       "      <td>-37.815834</td>\n",
       "      <td>145.046450</td>\n",
       "      <td>51032.0</td>\n",
       "      <td>2018-07-12</td>\n",
       "      <td>01:38:34</td>\n",
       "      <td>12681.06</td>\n",
       "      <td>5:09:55</td>\n",
       "      <td>34.200</td>\n",
       "    </tr>\n",
       "    <tr>\n",
       "      <th>4</th>\n",
       "      <td>4</td>\n",
       "      <td>ID5706453903</td>\n",
       "      <td>2</td>\n",
       "      <td>1</td>\n",
       "      <td>3</td>\n",
       "      <td>-37.812280</td>\n",
       "      <td>144.938096</td>\n",
       "      <td>-37.810542</td>\n",
       "      <td>144.980889</td>\n",
       "      <td>4256.0</td>\n",
       "      <td>2018-04-05</td>\n",
       "      <td>08:30:52</td>\n",
       "      <td>1066.86</td>\n",
       "      <td>8:48:38</td>\n",
       "      <td>59.665</td>\n",
       "    </tr>\n",
       "  </tbody>\n",
       "</table>\n",
       "</div>"
      ],
      "text/plain": [
       "   Unnamed: 0  Unnamed: 0.1  Uber Type  Origin Region  Destination Region  \\\n",
       "0           0  ID5682529146          2              1                   8   \n",
       "1           1  ID3212336499          1              4                   2   \n",
       "2           2  ID1579717413          0              8                   3   \n",
       "3           3  ID1565599989          0              9                   8   \n",
       "4           4  ID5706453903          2              1                   3   \n",
       "\n",
       "   Origin Latitude  Origin Longitude  Destination Latitude  \\\n",
       "0       -37.807509        144.962853            -37.815834   \n",
       "1       -37.810420        145.010473            -37.817380   \n",
       "2       -37.815834        145.046450            -37.818663   \n",
       "3       -38.110916        144.654173            -37.815834   \n",
       "4       -37.812280        144.938096            -37.810542   \n",
       "\n",
       "   Destination Longitude  Journey Distance(m) Departure Date Departure Time  \\\n",
       "0             145.046450               7465.0     2018-05-24       09:44:18   \n",
       "1             144.948896               6397.0     2018-01-03       10:33:33   \n",
       "2             144.996477               5177.0     2018-06-06       02:21:25   \n",
       "3             145.046450              51032.0     2018-07-12       01:38:34   \n",
       "4             144.980889               4256.0     2018-04-05       08:30:52   \n",
       "\n",
       "   Travel Time(s) Arrival Time    Fare$  \n",
       "0         2176.74     10:20:34  231.300  \n",
       "1         1498.56     10:58:31    9.240  \n",
       "2         1591.20      2:47:56   16.290  \n",
       "3        12681.06      5:09:55   34.200  \n",
       "4         1066.86      8:48:38   59.665  "
      ]
     },
     "execution_count": 31,
     "metadata": {},
     "output_type": "execute_result"
    }
   ],
   "source": [
    "#reading the data from the three files \n",
    "outliers  = pd.read_csv(\"29772990_outliers.csv\")\n",
    "missing = pd.read_csv(\"29772990.missing_value_solution.csv\")\n",
    "cleaned = pd.read_csv(\"29772990_dirty_data_solution.csv\")\n",
    "outliers.head()"
   ]
  },
  {
   "cell_type": "markdown",
   "metadata": {},
   "source": [
    "Combining all the three data frames into the single data frame"
   ]
  },
  {
   "cell_type": "code",
   "execution_count": 32,
   "metadata": {},
   "outputs": [],
   "source": [
    "combine = pd.concat([outliers,missing,cleaned],ignore_index=True)"
   ]
  },
  {
   "cell_type": "code",
   "execution_count": 33,
   "metadata": {},
   "outputs": [
    {
     "data": {
      "text/plain": [
       "<matplotlib.axes._subplots.AxesSubplot at 0x2815958ac50>"
      ]
     },
     "execution_count": 33,
     "metadata": {},
     "output_type": "execute_result"
    },
    {
     "data": {
      "image/png": "[encoded data removed]",
      "text/plain": [
       "<matplotlib.figure.Figure at 0x2815b5bb7b8>"
      ]
     },
     "metadata": {
      "needs_background": "light"
     },
     "output_type": "display_data"
    }
   ],
   "source": [
    "combine.boxplot()"
   ]
  },
  {
   "cell_type": "markdown",
   "metadata": {},
   "source": [
    "Plotting the box plot for all three uber types"
   ]
  },
  {
   "cell_type": "code",
   "execution_count": 34,
   "metadata": {},
   "outputs": [
    {
     "data": {
      "text/plain": [
       "<matplotlib.axes._subplots.AxesSubplot at 0x2815c0e32e8>"
      ]
     },
     "execution_count": 34,
     "metadata": {},
     "output_type": "execute_result"
    },
    {
     "data": {
      "image/png": "[encoded data removed]",
      "text/plain": [
       "<matplotlib.figure.Figure at 0x2815903a7f0>"
      ]
     },
     "metadata": {
      "needs_background": "light"
     },
     "output_type": "display_data"
    }
   ],
   "source": [
    "combine.boxplot(column='Fare$', by = 'Uber Type')"
   ]
  },
  {
   "cell_type": "markdown",
   "metadata": {},
   "source": [
    "Plotting the boxplot with each uber type separately"
   ]
  },
  {
   "cell_type": "code",
   "execution_count": 35,
   "metadata": {},
   "outputs": [],
   "source": [
    "data0 = combine[combine['Uber Type'] == 0]\n",
    "data1 = combine[combine['Uber Type'] == 1]\n",
    "data2 = combine[combine['Uber Type'] == 2]"
   ]
  },
  {
   "cell_type": "code",
   "execution_count": 36,
   "metadata": {},
   "outputs": [
    {
     "data": {
      "text/plain": [
       "<matplotlib.axes._subplots.AxesSubplot at 0x281592c4e48>"
      ]
     },
     "execution_count": 36,
     "metadata": {},
     "output_type": "execute_result"
    },
    {
     "data": {
      "image/png": "[encoded data removed]",
      "text/plain": [
       "<matplotlib.figure.Figure at 0x2815b5bb320>"
      ]
     },
     "metadata": {
      "needs_background": "light"
     },
     "output_type": "display_data"
    }
   ],
   "source": [
    "# Uber type 0\n",
    "data0.boxplot(column='Fare$') "
   ]
  },
  {
   "cell_type": "code",
   "execution_count": 37,
   "metadata": {},
   "outputs": [
    {
     "data": {
      "text/plain": [
       "<matplotlib.axes._subplots.AxesSubplot at 0x28159e94198>"
      ]
     },
     "execution_count": 37,
     "metadata": {},
     "output_type": "execute_result"
    },
    {
     "data": {
      "image/png": "[encoded data removed]",
      "text/plain": [
       "<matplotlib.figure.Figure at 0x28159587278>"
      ]
     },
     "metadata": {
      "needs_background": "light"
     },
     "output_type": "display_data"
    }
   ],
   "source": [
    "# Uber Type 1 \n",
    "data1.boxplot(column='Fare$')"
   ]
  },
  {
   "cell_type": "code",
   "execution_count": 38,
   "metadata": {},
   "outputs": [
    {
     "data": {
      "text/plain": [
       "<matplotlib.axes._subplots.AxesSubplot at 0x28159ebe3c8>"
      ]
     },
     "execution_count": 38,
     "metadata": {},
     "output_type": "execute_result"
    },
    {
     "data": {
      "image/png": "[encoded data removed]",
      "text/plain": [
       "<matplotlib.figure.Figure at 0x281588e6710>"
      ]
     },
     "metadata": {
      "needs_background": "light"
     },
     "output_type": "display_data"
    }
   ],
   "source": [
    "# Uber Type 2\n",
    "data2.boxplot(column='Fare$')"
   ]
  },
  {
   "cell_type": "markdown",
   "metadata": {},
   "source": [
    "Caluclating the percentile for each uber type\n",
    "\n",
    "- 25% \n",
    "- 50%\n",
    "- 75%"
   ]
  },
  {
   "cell_type": "code",
   "execution_count": 39,
   "metadata": {},
   "outputs": [],
   "source": [
    "data0_q1 = data0['Fare$'].quantile(.25)\n",
    "data0_q2 = data0['Fare$'].quantile(.50)\n",
    "data0_q3 = data0['Fare$'].quantile(.75)\n",
    "data1_q1 = data1['Fare$'].quantile(.25)\n",
    "data1_q2 = data1['Fare$'].quantile(.50)\n",
    "data1_q3 = data1['Fare$'].quantile(.75)\n",
    "data2_q1 = data2['Fare$'].quantile(.25)\n",
    "data2_q2 = data2['Fare$'].quantile(.50)\n",
    "data2_q3 = data2['Fare$'].quantile(.75)"
   ]
  },
  {
   "cell_type": "markdown",
   "metadata": {},
   "source": [
    "Caluclating the Inter Quartile Rnage And Upper Whisker\n",
    "\n",
    "- IQR = Q3 - Q1\n",
    "- Upper Whisker = 1.5*IQR + Q3"
   ]
  },
  {
   "cell_type": "code",
   "execution_count": 40,
   "metadata": {},
   "outputs": [
    {
     "name": "stdout",
     "output_type": "stream",
     "text": [
      "upper whisker range for uber type: 0 =  33.17124999999999\n",
      "upper whisker range for uber type: 1 =  52.45375\n",
      "upper whisker range for uber type: 2 =  598.2500000000001\n"
     ]
    }
   ],
   "source": [
    "iqr0 = data0_q3 - data0_q1\n",
    "iqr1 = data1_q3 - data1_q1\n",
    "iqr2 = data2_q3 - data2_q1\n",
    "\n",
    "upper0 = (1.5*iqr0) + data0_q3\n",
    "upper1 = (1.5*iqr1) + data1_q3\n",
    "upper2 = (1.5*iqr2) + data2_q3\n",
    "\n",
    "print(\"upper whisker range for uber type: 0 = \", upper0)\n",
    "print(\"upper whisker range for uber type: 1 = \", upper1)\n",
    "print(\"upper whisker range for uber type: 2 = \", upper2)"
   ]
  },
  {
   "cell_type": "code",
   "execution_count": 41,
   "metadata": {},
   "outputs": [
    {
     "data": {
      "text/plain": [
       "(89, 15)"
      ]
     },
     "execution_count": 41,
     "metadata": {},
     "output_type": "execute_result"
    }
   ],
   "source": [
    "outliers.shape"
   ]
  },
  {
   "cell_type": "markdown",
   "metadata": {},
   "source": [
    "We can see that data frame has 89*15 shape "
   ]
  },
  {
   "cell_type": "markdown",
   "metadata": {},
   "source": [
    "Removing the outliers based on the Upper Whisker, if the value is more than the caluaclted upper whisker then we are removing them from the data\n",
    "    - removing the values for the uber type 0 where fare is more than 33.17\n",
    "    - removing the values for the uber type 1 where fare is more than 53.11\n",
    "    - removing the values for the uber type 2 where fare is more than 595.465"
   ]
  },
  {
   "cell_type": "code",
   "execution_count": 42,
   "metadata": {},
   "outputs": [],
   "source": [
    "#Uber type 0\n",
    "outliers=outliers[np.logical_not(np.logical_and(outliers['Uber Type']==0,outliers['Fare$']>upper0))] "
   ]
  },
  {
   "cell_type": "code",
   "execution_count": 43,
   "metadata": {},
   "outputs": [],
   "source": [
    "#Uber type 1\n",
    "outliers=outliers[np.logical_not(np.logical_and(outliers['Uber Type']==1,outliers['Fare$']>upper1))]"
   ]
  },
  {
   "cell_type": "code",
   "execution_count": 44,
   "metadata": {},
   "outputs": [],
   "source": [
    "#Uber type 2\n",
    "outliers=outliers[np.logical_not(np.logical_and(outliers['Uber Type']==2,outliers['Fare$']>upper2))]"
   ]
  },
  {
   "cell_type": "code",
   "execution_count": 45,
   "metadata": {},
   "outputs": [
    {
     "data": {
      "text/plain": [
       "(79, 15)"
      ]
     },
     "execution_count": 45,
     "metadata": {},
     "output_type": "execute_result"
    }
   ],
   "source": [
    "outliers.shape"
   ]
  },
  {
   "cell_type": "markdown",
   "metadata": {},
   "source": [
    "now we check the data frame has the shape 79 * 15 \n",
    "so we can see that there are 10 otliers and they are removed from the outliers data "
   ]
  },
  {
   "cell_type": "code",
   "execution_count": 46,
   "metadata": {},
   "outputs": [],
   "source": [
    "outliers.to_csv (r'29772990_outliers_solution.csv', index = None, header=True) # writing the data to CSV file "
   ]
  },
  {
   "cell_type": "markdown",
   "metadata": {},
   "source": [
    "End of the Assignment "
   ]
  },
  {
   "cell_type": "markdown",
   "metadata": {},
   "source": [
    "Refrences:\n",
    "    -  Lecture slides\n",
    "    - Alexandria\n",
    "    - stack overflow\n"
   ]
  },
  {
   "cell_type": "code",
   "execution_count": null,
   "metadata": {},
   "outputs": [],
   "source": []
  }
 ],
 "metadata": {
  "kernelspec": {
   "display_name": "Python 3",
   "language": "python",
   "name": "python3"
  },
  "language_info": {
   "codemirror_mode": {
    "name": "ipython",
    "version": 3
   },
   "file_extension": ".py",
   "mimetype": "text/x-python",
   "name": "python",
   "nbconvert_exporter": "python",
   "pygments_lexer": "ipython3",
   "version": "3.6.4"
  }
 },
 "nbformat": 4,
 "nbformat_minor": 2
}
